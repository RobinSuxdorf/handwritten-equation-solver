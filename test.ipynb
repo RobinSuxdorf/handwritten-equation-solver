{
 "cells": [
  {
   "cell_type": "code",
   "execution_count": 1,
   "metadata": {},
   "outputs": [
    {
     "data": {
      "image/png": "[encoded data removed]",
      "text/plain": [
       "<Figure size 640x480 with 3 Axes>"
      ]
     },
     "metadata": {},
     "output_type": "display_data"
    }
   ],
   "source": [
    "from image_processing import extract_objects\n",
    "import matplotlib.pyplot as plt\n",
    "\n",
    "image_path = \"equation.png\"\n",
    "\n",
    "resized_images = extract_objects(image_path)\n",
    "\n",
    "fig, axs = plt.subplots(1, len(resized_images))\n",
    "\n",
    "for index, resized_image in enumerate(resized_images):\n",
    "\n",
    "    axs[index].imshow(resized_image, cmap='gray')\n",
    "    axs[index].axis('off')\n",
    "plt.show()"
   ]
  },
  {
   "cell_type": "code",
   "execution_count": null,
   "metadata": {},
   "outputs": [],
   "source": [
    "import torch\n",
    "from symbol_classifier import SymbolClassifier\n",
    "\n",
    "symbol_classifier = SymbolClassifier()\n",
    "\n",
    "symbol_classifier.load_state_dict(torch.load(\"model.pt\"))"
   ]
  },
  {
   "cell_type": "code",
   "execution_count": null,
   "metadata": {},
   "outputs": [],
   "source": [
    "for im in resized_images:\n",
    "    x = torch.tensor(im, dtype=torch.float).unsqueeze(0).unsqueeze(0)\n",
    "    output = symbol_classifier(x)\n",
    "    prediction = torch.argmax(output)\n",
    "    print(prediction)"
   ]
  },
  {
   "cell_type": "code",
   "execution_count": null,
   "metadata": {},
   "outputs": [],
   "source": [
    "from expression_evaluation import evaluate_expression\n",
    "\n",
    "evaluate_expression(\"3+4*5\")"
   ]
  }
 ],
 "metadata": {
  "kernelspec": {
   "display_name": "Python 3.11.6 64-bit",
   "language": "python",
   "name": "python3"
  },
  "language_info": {
   "codemirror_mode": {
    "name": "ipython",
    "version": 3
   },
   "file_extension": ".py",
   "mimetype": "text/x-python",
   "name": "python",
   "nbconvert_exporter": "python",
   "pygments_lexer": "ipython3",
   "version": "3.11.6"
  },
  "orig_nbformat": 4,
  "vscode": {
   "interpreter": {
    "hash": "aee8b7b246df8f9039afb4144a1f6fd8d2ca17a180786b69acc140d282b71a49"
   }
  }
 },
 "nbformat": 4,
 "nbformat_minor": 2
}
