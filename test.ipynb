{
 "cells": [
  {
   "cell_type": "code",
   "execution_count": null,
   "metadata": {},
   "outputs": [],
   "source": [
    "# load image\n",
    "# get boundary rects and sort them\n",
    "# remove duplicates\n",
    "# reshape image"
   ]
  },
  {
   "cell_type": "code",
   "execution_count": null,
   "metadata": {},
   "outputs": [],
   "source": [
    "import cv2\n",
    "import matplotlib.pyplot as plt\n",
    "\n",
    "image_path = \"equation.png\"\n",
    "\n",
    "image = cv2.imread(image_path, cv2.IMREAD_GRAYSCALE)\n",
    "\n",
    "_, binary_image = cv2.threshold(image, 128, 255, cv2.THRESH_BINARY_INV)\n",
    "\n",
    "contours, _ = cv2.findContours(binary_image, cv2.RETR_EXTERNAL, cv2.CHAIN_APPROX_NONE)\n",
    "\n",
    "bounding_rects = [cv2.boundingRect(contour) for contour in contours]\n",
    "\n",
    "bounding_rects = sorted(bounding_rects, key=lambda rect: rect[0])\n",
    "\n",
    "resized_images = []\n",
    "\n",
    "for rect in bounding_rects:\n",
    "    x, y, w, h = rect\n",
    "    im_crop = binary_image[y:y + h, x: x + w]\n",
    "\n",
    "    im_resize = cv2.resize(im_crop, (28,28))\n",
    "\n",
    "    resized_images.append(im_resize)\n",
    "\n",
    "fig, axs = plt.subplots(1, len(resized_images))\n",
    "\n",
    "for index, resized_image in enumerate(resized_images):\n",
    "\n",
    "    axs[index].imshow(resized_image, cmap='gray')\n",
    "    axs[index].axis('off')\n",
    "plt.show()"
   ]
  },
  {
   "cell_type": "code",
   "execution_count": null,
   "metadata": {},
   "outputs": [],
   "source": [
    "import torch\n",
    "from symbol_classifier import SymbolClassifier\n",
    "\n",
    "symbol_classifier = SymbolClassifier()\n",
    "\n",
    "symbol_classifier.load_state_dict(torch.load(\"model.pt\"))"
   ]
  },
  {
   "cell_type": "code",
   "execution_count": null,
   "metadata": {},
   "outputs": [],
   "source": [
    "for im in resized_images:\n",
    "    x = torch.tensor(im, dtype=torch.float).unsqueeze(0).unsqueeze(0)\n",
    "    output = symbol_classifier(x)\n",
    "    prediction = torch.argmax(output)\n",
    "    print(prediction)"
   ]
  },
  {
   "cell_type": "code",
   "execution_count": 1,
   "metadata": {},
   "outputs": [
    {
     "data": {
      "text/plain": [
       "23.0"
      ]
     },
     "execution_count": 1,
     "metadata": {},
     "output_type": "execute_result"
    }
   ],
   "source": [
    "from expression_evaluation import evaluate_expression\n",
    "\n",
    "evaluate_expression(\"3+4*5\")"
   ]
  }
 ],
 "metadata": {
  "kernelspec": {
   "display_name": "Python 3.11.6 64-bit",
   "language": "python",
   "name": "python3"
  },
  "language_info": {
   "codemirror_mode": {
    "name": "ipython",
    "version": 3
   },
   "file_extension": ".py",
   "mimetype": "text/x-python",
   "name": "python",
   "nbconvert_exporter": "python",
   "pygments_lexer": "ipython3",
   "version": "3.11.6"
  },
  "orig_nbformat": 4,
  "vscode": {
   "interpreter": {
    "hash": "aee8b7b246df8f9039afb4144a1f6fd8d2ca17a180786b69acc140d282b71a49"
   }
  }
 },
 "nbformat": 4,
 "nbformat_minor": 2
}
